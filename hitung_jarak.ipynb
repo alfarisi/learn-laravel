{
 "cells": [
  {
   "cell_type": "markdown",
   "metadata": {},
   "source": [
    "Lokasi pengantaran  \n",
    "0 : Lokasi A  \n",
    "1 : Lokasi B  \n",
    "2 : Lokasi C  \n",
    "\n",
    "Lokasi asal dan kembali  \n",
    "3 : Lokasi X  \n",
    "4 : Lokasi Y"
   ]
  },
  {
   "cell_type": "code",
   "execution_count": 52,
   "metadata": {},
   "outputs": [
    {
     "name": "stdout",
     "output_type": "stream",
     "text": [
      "[(0, 1, 2), (0, 2, 1), (1, 0, 2), (1, 2, 0), (2, 0, 1), (2, 1, 0)]\n"
     ]
    }
   ],
   "source": [
    "import itertools\n",
    "perm = [l for l in itertools.permutations(range(3), 3)]\n",
    "print(perm)"
   ]
  },
  {
   "cell_type": "code",
   "execution_count": 53,
   "metadata": {},
   "outputs": [],
   "source": [
    "lokasi_asal = [3, 4]"
   ]
  },
  {
   "cell_type": "code",
   "execution_count": 54,
   "metadata": {},
   "outputs": [],
   "source": [
    "distances = {\n",
    "    (0,0): 0,     (0,1): 10694, (0,2): 11951, (0,3): 12641, (0,4): 13651,\n",
    "    (1,0): 10694, (1,1): 0,     (1,2): 12251, (1,3): 13001, (1,4): 14051,\n",
    "    (2,0): 11951, (2,1): 12251, (2,2): 0,     (2,3): 12691, (2,4): 13341,\n",
    "    (3,0): 12641, (3,1): 13001, (3,2): 12691, (3,3): 0,     (3,4): 12691,\n",
    "    (4,0): 13651, (4,1): 14051, (4,2): 13341, (4,3): 12691, (4,4): 0,\n",
    "}"
   ]
  },
  {
   "cell_type": "code",
   "execution_count": 73,
   "metadata": {},
   "outputs": [],
   "source": [
    "paths = []\n",
    "path_distances = {}\n",
    "\n",
    "for i in range(len(lokasi_asal)):\n",
    "    for j in range(len(perm)):\n",
    "        path = (lokasi_asal[i],) + perm[j] + (lokasi_asal[i],)\n",
    "        paths.append(path)\n",
    "        path_distances[path] = 0\n",
    "        \n",
    "        for k in range(len(path)-1):\n",
    "            edge = (path[k], path[k+1])\n",
    "            path_distances[path] += distances[edge]"
   ]
  },
  {
   "cell_type": "code",
   "execution_count": 74,
   "metadata": {},
   "outputs": [
    {
     "data": {
      "text/plain": [
       "[(3, 0, 1, 2, 3),\n",
       " (3, 0, 2, 1, 3),\n",
       " (3, 1, 0, 2, 3),\n",
       " (3, 1, 2, 0, 3),\n",
       " (3, 2, 0, 1, 3),\n",
       " (3, 2, 1, 0, 3),\n",
       " (4, 0, 1, 2, 4),\n",
       " (4, 0, 2, 1, 4),\n",
       " (4, 1, 0, 2, 4),\n",
       " (4, 1, 2, 0, 4),\n",
       " (4, 2, 0, 1, 4),\n",
       " (4, 2, 1, 0, 4)]"
      ]
     },
     "execution_count": 74,
     "metadata": {},
     "output_type": "execute_result"
    }
   ],
   "source": [
    "paths"
   ]
  },
  {
   "cell_type": "code",
   "execution_count": 75,
   "metadata": {},
   "outputs": [
    {
     "data": {
      "text/plain": [
       "{(3, 0, 1, 2, 3): 48277,\n",
       " (3, 0, 2, 1, 3): 49844,\n",
       " (3, 1, 0, 2, 3): 48337,\n",
       " (3, 1, 2, 0, 3): 49844,\n",
       " (3, 2, 0, 1, 3): 48337,\n",
       " (3, 2, 1, 0, 3): 48277,\n",
       " (4, 0, 1, 2, 4): 49937,\n",
       " (4, 0, 2, 1, 4): 51904,\n",
       " (4, 1, 0, 2, 4): 50037,\n",
       " (4, 1, 2, 0, 4): 51904,\n",
       " (4, 2, 0, 1, 4): 50037,\n",
       " (4, 2, 1, 0, 4): 49937}"
      ]
     },
     "execution_count": 75,
     "metadata": {},
     "output_type": "execute_result"
    }
   ],
   "source": [
    "path_distances"
   ]
  }
 ],
 "metadata": {
  "kernelspec": {
   "display_name": "Python 3",
   "language": "python",
   "name": "python3"
  },
  "language_info": {
   "codemirror_mode": {
    "name": "ipython",
    "version": 3
   },
   "file_extension": ".py",
   "mimetype": "text/x-python",
   "name": "python",
   "nbconvert_exporter": "python",
   "pygments_lexer": "ipython3",
   "version": "3.8.5"
  }
 },
 "nbformat": 4,
 "nbformat_minor": 4
}
